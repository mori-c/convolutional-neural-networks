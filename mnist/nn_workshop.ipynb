{
 "cells": [
  {
   "cell_type": "code",
   "execution_count": 3,
   "metadata": {},
   "outputs": [],
   "source": [
    "# import out dataset\n",
    "\n",
    "%matplotlib inline\n",
    "\n",
    "import pickle\n",
    "import gzip\n",
    "\n",
    "with gzip.open('data/mnist.pkl.gz', 'rb') as f:\n",
    "               ((x_train, y_train), (x_valid, y_valid), _) = pickle.load(f, encoding='latin-1')"
   ]
  },
  {
   "cell_type": "code",
   "execution_count": 20,
   "metadata": {},
   "outputs": [
    {
     "data": {
      "text/plain": [
       "<matplotlib.image.AxesImage at 0x10f21ffd0>"
      ]
     },
     "execution_count": 20,
     "metadata": {},
     "output_type": "execute_result"
    },
    {
     "data": {
      "image/png": "[encoded data removed]",
      "text/plain": [
       "<Figure size 432x288 with 1 Axes>"
      ]
     },
     "metadata": {
      "needs_background": "light"
     },
     "output_type": "display_data"
    }
   ],
   "source": [
    "# plot a sample image\n",
    "\n",
    "from matplotlib import pyplot\n",
    "import numpy as np\n",
    "pyplot.imshow(x_train[0].reshape([28,28]), cmap=\"gray\")"
   ]
  },
  {
   "cell_type": "code",
   "execution_count": 22,
   "metadata": {},
   "outputs": [
    {
     "name": "stderr",
     "output_type": "stream",
     "text": [
      "/Users/moric/Library/Python/3.7/lib/python/site-packages/ipykernel_launcher.py:7: UserWarning: To copy construct from a tensor, it is recommended to use sourceTensor.clone().detach() or sourceTensor.clone().detach().requires_grad_(True), rather than torch.tensor(sourceTensor).\n",
      "  import sys\n"
     ]
    }
   ],
   "source": [
    "# turn arrays into tensors\n",
    "\n",
    "import torch\n",
    "\n",
    "x_train, y_train, x_valid, y_valid = map(\n",
    "    # converts numpy into tensor\n",
    "    torch.tensor, (x_train, y_train, x_valid, y_valid)\n",
    ")\n",
    "n, c = x_train.shape"
   ]
  },
  {
   "cell_type": "code",
   "execution_count": 23,
   "metadata": {},
   "outputs": [
    {
     "data": {
      "text/plain": [
       "(tensor(0), tensor(9))"
      ]
     },
     "execution_count": 23,
     "metadata": {},
     "output_type": "execute_result"
    }
   ],
   "source": [
    "# what do they look like\n",
    "y_train.min(), y_train.max()"
   ]
  },
  {
   "cell_type": "code",
   "execution_count": 57,
   "metadata": {},
   "outputs": [],
   "source": [
    "import math"
   ]
  },
  {
   "cell_type": "code",
   "execution_count": 59,
   "metadata": {},
   "outputs": [],
   "source": [
    "# initialize weights/biasesa\n",
    "# 784 = size\n",
    "# 10 = label size\n",
    "weights = torch.randn(784,10) / math.sqrt(784)\n",
    "# math.sqrt helps not explode \n",
    "weights.requires_grad_()\n",
    "bias = torch.zeros(10, requires_grad=True)"
   ]
  },
  {
   "cell_type": "code",
   "execution_count": 60,
   "metadata": {},
   "outputs": [],
   "source": [
    "# define activation function\n",
    "# softmax as an example\n",
    "# change init by 2\n",
    "def log_softmax(x):\n",
    "    return x - x.exp().sum(-1).log().unsqueeze(-1) # single dimension unsqueeze to match weights\n",
    "\n",
    "# define our model\n",
    "# take weights, take inputs, apply softmax\n",
    "def model(xb):\n",
    "    return log_softmax(xb @ weights + bias)\n"
   ]
  },
  {
   "cell_type": "code",
   "execution_count": 61,
   "metadata": {},
   "outputs": [
    {
     "name": "stdout",
     "output_type": "stream",
     "text": [
      "tensor([-2.3298, -2.5662, -2.6587, -1.8822, -2.8657, -2.5916, -2.7435, -2.5715,\n",
      "        -1.6216, -2.0146], grad_fn=<SelectBackward>) torch.Size([64, 10])\n"
     ]
    }
   ],
   "source": [
    "# make predictions with batches of 64 stochastic\n",
    "bs = 64\n",
    "xb = x_train[0:bs]\n",
    "# mini batch of x\n",
    "preds = model(xb)\n",
    "# will give some\n",
    "print(preds[0], preds.shape)"
   ]
  },
  {
   "cell_type": "code",
   "execution_count": 63,
   "metadata": {},
   "outputs": [],
   "source": [
    "# define loss function (NLL)\n",
    "def nll (logs, target):\n",
    "    # take activations, what were the targets?\n",
    "    return --logs[range(target.shape[0]), target].mean()\n",
    "\n",
    "# a tensor that reduces value\n",
    "loss_func = nll"
   ]
  },
  {
   "cell_type": "code",
   "execution_count": 64,
   "metadata": {},
   "outputs": [
    {
     "name": "stdout",
     "output_type": "stream",
     "text": [
      "tensor(-2.3211, grad_fn=<NegBackward>)\n"
     ]
    }
   ],
   "source": [
    "# check starting loss\n",
    "# do our batch of labels\n",
    "yb = y_train[0:bs]\n",
    "print(loss_func(preds, yb))\n",
    "\n",
    "# tensor(0.1789, grad_fn<negBackwards>)"
   ]
  },
  {
   "cell_type": "code",
   "execution_count": 65,
   "metadata": {},
   "outputs": [
    {
     "name": "stdout",
     "output_type": "stream",
     "text": [
      "tensor(0.0781)\n"
     ]
    }
   ],
   "source": [
    "# accuracy function\n",
    "def accuracy(out, yb):\n",
    "        preds = torch.argmax(out, dim=1)\n",
    "        return (preds==yb).float().mean()\n",
    "    \n",
    "print(accuracy(preds, yb))\n",
    "\n",
    "# tensor(0.9375)"
   ]
  },
  {
   "cell_type": "code",
   "execution_count": 68,
   "metadata": {},
   "outputs": [],
   "source": [
    "# training loop\n",
    "\n",
    "lr = 0.5\n",
    "epochs = 2\n",
    "for epoch in range(epochs):\n",
    "    for i in range((n - 1) // bs + 1): \n",
    "        # this gives us the number of batches\n",
    "        start_i = i + bs # starting index of batch\n",
    "        end_i = start_i + bs # ending index of batch\n",
    "        xb = x_train[start_i:end_i]\n",
    "        yb = y_train[start_i:end_i]\n",
    "        pred = model(xb)\n",
    "        loss = loss_func(pred, yb)\n",
    "        \n",
    "        loss.backward()\n",
    "        with torch.no_grad():\n",
    "            # .grad = gradients * learning rate\n",
    "            weights -= weights.grad * lr\n",
    "            bias -= bias.grad * lr\n",
    "            # manual your zero\n",
    "            weights.grad.zero_()\n",
    "            bias.grad.zero_()"
   ]
  },
  {
   "cell_type": "code",
   "execution_count": 69,
   "metadata": {},
   "outputs": [
    {
     "name": "stdout",
     "output_type": "stream",
     "text": [
      "tensor(nan, grad_fn=<NegBackward>) tensor(0.1094)\n"
     ]
    }
   ],
   "source": [
    "# check our loss nd accuracy now\n",
    "print(loss_func(model(xb), yb), accuracy(model(xb), yb))\n",
    "\n",
    "# tensor(0.55, grad_fn=<NegBackward>) tensor(1.)"
   ]
  },
  {
   "cell_type": "code",
   "execution_count": 70,
   "metadata": {},
   "outputs": [],
   "source": [
    "# nn = torch module\n",
    "# nn.Functional\n",
    "\n",
    "# module has its own loss function\n",
    "# cross-entropy loss from softmax\n",
    "import torch.nn.functional as F\n",
    "\n",
    "loss_func = F.cross_entropy\n",
    "\n",
    "# redefine model\n",
    "\n",
    "def model(xb):\n",
    "    return xb @ weights + bias"
   ]
  },
  {
   "cell_type": "code",
   "execution_count": 71,
   "metadata": {},
   "outputs": [
    {
     "name": "stdout",
     "output_type": "stream",
     "text": [
      "tensor(nan, grad_fn=<NllLossBackward>)\n"
     ]
    }
   ],
   "source": [
    "print(loss_func(model(xb), yb))"
   ]
  },
  {
   "cell_type": "code",
   "execution_count": 77,
   "metadata": {},
   "outputs": [],
   "source": [
    "# nn.Module & nn.Parameter\n",
    "\n",
    "from torch import nn\n",
    "\n",
    "class Mnist_Logistic(nn.Module): \n",
    "# class_name(sub.class)\n",
    "# how does the calling make its object\n",
    "    def __init__(self):\n",
    "        super().__init__()\n",
    "        self.weights = nn.Parameter(torch.randn(784, 10) / math.sqrt(784))\n",
    "        self.bias = nn.Parameter(torch.zeros(10))\n",
    "    # auto make to send to optimizer\n",
    "    \n",
    "    # forward pass function of MNIST image to weights and bias\n",
    "    def forward(self, xb):\n",
    "        return xb @ self.weights * self.bias\n",
    "    "
   ]
  },
  {
   "cell_type": "code",
   "execution_count": 78,
   "metadata": {},
   "outputs": [],
   "source": [
    "# create out model class, by subclassing nn.Module\n",
    "model = Mnist_Logistic()\n"
   ]
  },
  {
   "cell_type": "code",
   "execution_count": 84,
   "metadata": {},
   "outputs": [],
   "source": [
    "# instantiate model with input data\n",
    "# for loop\n",
    "\n",
    "def fit():\n",
    "    for epoch in range(epochs):\n",
    "        for i in range((n - 1) // bs + 1): \n",
    "            # this gives us the number of batches\n",
    "            start_i = i + bs # starting index of batch\n",
    "            end_i = start_i + bs # ending index of batch\n",
    "            xb = x_train[start_i:end_i]\n",
    "            yb = y_train[start_i:end_i]\n",
    "            pred = model(xb)\n",
    "            loss = loss_func(pred, yb)\n",
    "\n",
    "            loss.backward()\n",
    "            with torch.no_grad():\n",
    "                # loop\n",
    "                for p in model.parameters():\n",
    "                    p -= p.grad * lr\n",
    "                # gradient descent\n",
    "                model.zero_grad()"
   ]
  },
  {
   "cell_type": "code",
   "execution_count": 85,
   "metadata": {},
   "outputs": [],
   "source": [
    "fit()"
   ]
  },
  {
   "cell_type": "code",
   "execution_count": 86,
   "metadata": {},
   "outputs": [
    {
     "name": "stdout",
     "output_type": "stream",
     "text": [
      "tensor(0.0063, grad_fn=<NllLossBackward>)\n"
     ]
    }
   ],
   "source": [
    "# confirm our loss\n",
    "\n",
    "# callable object\n",
    "print(loss_func(model(xb), yb))\n"
   ]
  },
  {
   "cell_type": "code",
   "execution_count": 99,
   "metadata": {},
   "outputs": [],
   "source": [
    "# nn.Linear class\n",
    "\n",
    "from torch import nn\n",
    "\n",
    "class Mnist_Logistic(nn.Module):\n",
    "# how does the calling make its object\n",
    "    def __init__(self):\n",
    "        super().__init__()\n",
    "        # self.weights = nn.Parameter(torch.randn(784, 10) / math.sqrt(784))\n",
    "        # self.bias = nn.Parameter(torch.zeros(10))\n",
    "        self.lin = nn.Linear(784, 10)\n",
    "    \n",
    "    # forward pass function of MNIST image to weights and bias\n",
    "    def forward(self, xb):\n",
    "        return self.lin(xb)\n",
    "    "
   ]
  },
  {
   "cell_type": "code",
   "execution_count": 94,
   "metadata": {},
   "outputs": [],
   "source": [
    "# define our fit function\n",
    "\n"
   ]
  },
  {
   "cell_type": "code",
   "execution_count": 100,
   "metadata": {},
   "outputs": [
    {
     "name": "stdout",
     "output_type": "stream",
     "text": [
      "tensor(2.3559, grad_fn=<NllLossBackward>)\n"
     ]
    }
   ],
   "source": [
    "# call and check our model\n",
    "model = Mnist_Logistic()\n",
    "print(loss_func(model(xb), yb))"
   ]
  },
  {
   "cell_type": "code",
   "execution_count": 101,
   "metadata": {},
   "outputs": [],
   "source": [
    "fit()\n",
    "    "
   ]
  },
  {
   "cell_type": "code",
   "execution_count": 108,
   "metadata": {},
   "outputs": [],
   "source": [
    "# use torch.optim to reset to zero for every call\n",
    "from torch import optim\n",
    "\n",
    "def get_model():\n",
    "    # helper function\n",
    "    model = Mnist_Logistic()\n",
    "    # stochastic gradient descent vs adam, ada\n",
    "    # optim.SGD(params=('lin') : lr : dictionary)\n",
    "    return model, optim.SGD(model.parameters(), lr=lr) \n",
    "    # needs a learning rate with model parameters"
   ]
  },
  {
   "cell_type": "code",
   "execution_count": 109,
   "metadata": {},
   "outputs": [
    {
     "name": "stdout",
     "output_type": "stream",
     "text": [
      "tensor(2.3267, grad_fn=<NllLossBackward>)\n"
     ]
    }
   ],
   "source": [
    "# instantite model\n",
    "model, opt = get_model()\n",
    "print(loss_func(model(xb), yb))\n",
    "\n",
    "# training looop\n",
    "for epoch in range(epochs):\n",
    "    for i in range((n - 1) // bs + 1): \n",
    "        # this gives us the number of batches\n",
    "        \n",
    "        # ---- data load clunky\n",
    "        start_i = i + bs # starting index of batch\n",
    "        end_i = start_i + bs # ending index of batch\n",
    "        xb = x_train[start_i:end_i]\n",
    "        yb = y_train[start_i:end_i]\n",
    "        # ---- data load end\n",
    "        pred = model(xb)\n",
    "        loss = loss_func(pred, yb)\n",
    "        \n",
    "        loss.backward()\n",
    "        \n",
    "        opt.step()\n",
    "        opt.zero_grad()\n",
    "        \n",
    "    "
   ]
  },
  {
   "cell_type": "code",
   "execution_count": null,
   "metadata": {},
   "outputs": [],
   "source": [
    "# make data loading cleaner aka with less code\n",
    "\n"
   ]
  },
  {
   "cell_type": "code",
   "execution_count": null,
   "metadata": {},
   "outputs": [],
   "source": [
    "# dictionary, and pass"
   ]
  }
 ],
 "metadata": {
  "kernelspec": {
   "display_name": "Python 3",
   "language": "python",
   "name": "python3"
  },
  "language_info": {
   "codemirror_mode": {
    "name": "ipython",
    "version": 3
   },
   "file_extension": ".py",
   "mimetype": "text/x-python",
   "name": "python",
   "nbconvert_exporter": "python",
   "pygments_lexer": "ipython3",
   "version": "3.7.3"
  }
 },
 "nbformat": 4,
 "nbformat_minor": 2
}
